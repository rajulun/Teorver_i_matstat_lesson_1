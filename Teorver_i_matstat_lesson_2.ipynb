{
 "cells": [
  {
   "cell_type": "markdown",
   "metadata": {},
   "source": [
    "### Дискретные случайные величины. Закон распределения вероятностей. Биномиальный закон распределения. Распределение Пуассона.      Домашнее задание\n",
    "#### Задача 1. Контрольная работа состоит из пяти вопросов. На каждый вопрос приведено четыре варианта ответа, один из которых правильный. Составьте закон распределения числа правильных ответов при простом угадывании. Найдите M(X), D(X)."
   ]
  },
  {
   "cell_type": "code",
   "execution_count": 1,
   "metadata": {},
   "outputs": [],
   "source": [
    "import math\n",
    "import numpy as np"
   ]
  },
  {
   "cell_type": "code",
   "execution_count": 2,
   "metadata": {},
   "outputs": [],
   "source": [
    "def veroyatnost_po_bernulli(n, p, k):\n",
    "    C_iz_n_po_k = np.math.factorial(n) / (np.math.factorial(k) * np.math.factorial(n - k))\n",
    "    return C_iz_n_po_k * (p**k) * (1-p)**(n - k)"
   ]
  },
  {
   "cell_type": "code",
   "execution_count": 3,
   "metadata": {},
   "outputs": [
    {
     "name": "stdout",
     "output_type": "stream",
     "text": [
      "0.2373046875\n",
      "0.3955078125\n",
      "0.263671875\n",
      "0.087890625\n",
      "M(X) = 1.25\n",
      "D(X) = 0.9375\n"
     ]
    }
   ],
   "source": [
    "n = 5      # число вопросов\n",
    "p = 1 / 4  # вероятность угадать ответ\n",
    "print(veroyatnost_po_bernulli(n, p, 0))\n",
    "print(veroyatnost_po_bernulli(n, p, 1))\n",
    "print(veroyatnost_po_bernulli(n, p, 2))\n",
    "print(veroyatnost_po_bernulli(n, p, 3))\n",
    "print('M(X) = {}'.format(n * p))\n",
    "print('D(X) = {}'.format(n * p * (1 - p)))"
   ]
  },
  {
   "cell_type": "code",
   "execution_count": null,
   "metadata": {},
   "outputs": [],
   "source": []
  },
  {
   "cell_type": "markdown",
   "metadata": {},
   "source": [
    "#### Задача 2. Вероятность попадания в цель при одном выстреле равна 0.01. Какова вероятность того, что число попаданий при 200 выстрелах будет не менее 5 и не более 10?"
   ]
  },
  {
   "cell_type": "code",
   "execution_count": 4,
   "metadata": {},
   "outputs": [
    {
     "name": "stdout",
     "output_type": "stream",
     "text": [
      "вероятность 5 попаданий при 200 выстрелах: 0.03572335672160829\n",
      "вероятность 6 попаданий при 200 выстрелах: 0.011727364580325954\n",
      "вероятность 7 попаданий при 200 выстрелах: 0.0032829851783307863\n",
      "вероятность 8 попаданий при 200 выстрелах: 0.0008000203780528306\n",
      "вероятность 9 попаданий при 200 выстрелах: 0.000172394963620812\n",
      "вероятность 10 попаданий при 200 выстрелах: 3.326003843593443e-05\n",
      "вероятность того, что число попаданий при 200 выстрелах будет не менее 5 и не более 10: 0.051739381860374606\n"
     ]
    }
   ],
   "source": [
    "n = 200\n",
    "p = 0.01\n",
    "ver_5_10 = 0\n",
    "for k in (5, 6, 7, 8, 9, 10):\n",
    "    print('вероятность', k, 'попаданий при 200 выстрелах:', veroyatnost_po_bernulli(n, p, k))\n",
    "    ver_5_10 += veroyatnost_po_bernulli(n, p, k)\n",
    "print('вероятность того, что число попаданий при 200 выстрелах будет не менее 5 и не более 10:', ver_5_10)\n"
   ]
  },
  {
   "cell_type": "code",
   "execution_count": null,
   "metadata": {},
   "outputs": [],
   "source": []
  },
  {
   "cell_type": "markdown",
   "metadata": {},
   "source": [
    "#### Задача 3. В условиях предыдущей задачи сколько выстрелов нужно сделать чтобы быть уверенным с вероятностью 0.9, что хотя бы 10 раз будет совершено попадание?\n",
    "#### Подсказка. Как посчитать P(X >= k) для величины X, имеющей распределение Пуассона? Здесь предстоит немножко покодить."
   ]
  },
  {
   "cell_type": "code",
   "execution_count": 8,
   "metadata": {},
   "outputs": [
    {
     "name": "stdout",
     "output_type": "stream",
     "text": [
      "Чтобы c вероятностью 90 %  попасть в мишень хотя бы 10 раз, необходимо сделать не менее 1421 выстрела\n"
     ]
    }
   ],
   "source": [
    "def puasson(lambda_, k):\n",
    "    return lambda_ ** k * np.exp(-lambda_)/math.factorial(k)\n",
    "\n",
    "\n",
    "def sum_P(n):\n",
    "    p_ = 0\n",
    "    for i in range(10, n + 1):\n",
    "        p_ += puasson(0.01 * n, i)\n",
    "        if puasson(0.01 * n, i) < 10**(-10):\n",
    "            break \n",
    "    return p_\n",
    "\n",
    "n = 200\n",
    "while sum_P(n) < 0.9:\n",
    "    n += 1\n",
    "print(f'Чтобы c вероятностью 90 %  попасть в мишень хотя бы 10 раз, необходимо сделать не менее {n} выстрела')"
   ]
  },
  {
   "cell_type": "code",
   "execution_count": null,
   "metadata": {},
   "outputs": [],
   "source": []
  },
  {
   "cell_type": "code",
   "execution_count": null,
   "metadata": {},
   "outputs": [],
   "source": []
  },
  {
   "cell_type": "code",
   "execution_count": null,
   "metadata": {},
   "outputs": [],
   "source": []
  }
 ],
 "metadata": {
  "kernelspec": {
   "display_name": "Python 3",
   "language": "python",
   "name": "python3"
  },
  "language_info": {
   "codemirror_mode": {
    "name": "ipython",
    "version": 3
   },
   "file_extension": ".py",
   "mimetype": "text/x-python",
   "name": "python",
   "nbconvert_exporter": "python",
   "pygments_lexer": "ipython3",
   "version": "3.7.3"
  }
 },
 "nbformat": 4,
 "nbformat_minor": 2
}
