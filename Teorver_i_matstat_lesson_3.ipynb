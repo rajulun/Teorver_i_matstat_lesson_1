{
 "cells": [
  {
   "cell_type": "markdown",
   "metadata": {},
   "source": [
    "### Описательная статистика. Качественные и количественные характеристики популяции. Графическое представление данных\n",
    "#### Домашнее задание. Задача 1\n",
    "#### Даны значения зарплат из выборки выпускников: 100, 80, 75, 77, 89, 33, 45, 25, 65, 17, 30, 24, 57, 55, 70, 75, 65, 84, 90, 150 Без использования статистических функций вроде mean, std, var, посчитать среднее арифметическое, среднее квадратичное отклонение, смещенную и несмещенную оценки дисперсий для данной выборки.\n",
    "#### Можно затем посчитать те же значения с использованием статистических функций, чтобы проверить себя.\n",
    "\n"
   ]
  },
  {
   "cell_type": "code",
   "execution_count": 1,
   "metadata": {},
   "outputs": [],
   "source": [
    "import numpy as np\n",
    "import pandas as pd\n",
    "import matplotlib.pyplot as plt\n",
    "import warnings\n",
    "warnings.filterwarnings('ignore')"
   ]
  },
  {
   "cell_type": "code",
   "execution_count": 2,
   "metadata": {},
   "outputs": [],
   "source": [
    "vibor_ka = np.array([100, 80, 75, 77, 89, 33, 45, 25, 65, 17, 30, 24, 57, 55, 70, 75, 65, 84, 90, 150])"
   ]
  },
  {
   "cell_type": "code",
   "execution_count": 3,
   "metadata": {},
   "outputs": [
    {
     "name": "stdout",
     "output_type": "stream",
     "text": [
      "Ручной подсчет среднего арифметического значения 65.3, Подсчет при помощи функции 65.3\n",
      "Ручной подсчет среднего квадратичного отклонения 30.823854398825596, Подсчет при помощи функции 30.823854398825596\n",
      "Ручной подсчет смещенной оценки дисперсии 950.11, Подсчет при помощи функции 950.11\n",
      "Ручной подсчет несмещенной оценки дисперсии 1000.1157894736842, Подсчет при помощи функции 1000.1157894736842\n"
     ]
    }
   ],
   "source": [
    "my_mean = vibor_ka.sum() / len(vibor_ka)\n",
    "chislitel = ((vibor_ka - vibor_ka.mean())**2).sum()\n",
    "my_std = np.sqrt(chislitel / len(vibor_ka))\n",
    "my_var0 = chislitel / len(vibor_ka)\n",
    "my_var1 = chislitel / (len(vibor_ka) - 1)\n",
    "    \n",
    "print(f'Ручной подсчет среднего арифметического значения {my_mean}, Подсчет при помощи функции {vibor_ka.mean()}')\n",
    "print(f'Ручной подсчет среднего квадратичного отклонения {my_std}, Подсчет при помощи функции {vibor_ka.std()}')\n",
    "print(f'Ручной подсчет смещенной оценки дисперсии {my_var0}, Подсчет при помощи функции {vibor_ka.var(ddof=0)}')\n",
    "print(f'Ручной подсчет несмещенной оценки дисперсии {my_var1}, Подсчет при помощи функции {vibor_ka.var(ddof=1)}')"
   ]
  },
  {
   "cell_type": "markdown",
   "metadata": {},
   "source": [
    "#### Задача 2\n",
    "#### Для выборки из задачи 1 найти первый и третий квартили, интерквартильное расстояние. Найти выборсы в выборке, используя для этого \"усы\" из boxplot. В этой задаче можно использовать статистические функции.\n"
   ]
  },
  {
   "cell_type": "code",
   "execution_count": 4,
   "metadata": {},
   "outputs": [],
   "source": [
    "import seaborn as sns"
   ]
  },
  {
   "cell_type": "code",
   "execution_count": 5,
   "metadata": {},
   "outputs": [
    {
     "name": "stdout",
     "output_type": "stream",
     "text": [
      "Первый квантиль равен 42.0, второй квантиль равен 81.0\n",
      "Интерквартильное расстояние равно 39.0\n"
     ]
    }
   ],
   "source": [
    "df_vibor_ka = pd.DataFrame(vibor_ka)\n",
    "q1 = df_vibor_ka[0].quantile(0.25)\n",
    "q3 = df_vibor_ka[0].quantile(0.75)\n",
    "iqr = q3 - q1\n",
    "\n",
    "print(f'Первый квантиль равен {q1}, второй квантиль равен {q3}')\n",
    "print(f'Интерквартильное расстояние равно {q3 - q1}')"
   ]
  },
  {
   "cell_type": "code",
   "execution_count": 6,
   "metadata": {},
   "outputs": [
    {
     "data": {
      "image/png": "[encoded data removed]",
      "text/plain": [
       "<Figure size 432x288 with 1 Axes>"
      ]
     },
     "metadata": {
      "needs_background": "light"
     },
     "output_type": "display_data"
    }
   ],
   "source": [
    "sns.boxplot(df_vibor_ka, orient='v')\n",
    "plt.ylim(0, 160)\n",
    "plt.show()"
   ]
  },
  {
   "cell_type": "code",
   "execution_count": 7,
   "metadata": {},
   "outputs": [
    {
     "data": {
      "text/plain": [
       "(-16.5, 139.5)"
      ]
     },
     "execution_count": 7,
     "metadata": {},
     "output_type": "execute_result"
    }
   ],
   "source": [
    "boxplot_range = (q1 - 1.5 * iqr, q3 + 1.5 * iqr)\n",
    "boxplot_range"
   ]
  },
  {
   "cell_type": "code",
   "execution_count": 8,
   "metadata": {},
   "outputs": [
    {
     "name": "stdout",
     "output_type": "stream",
     "text": [
      "Выбросы: 150    1\n",
      "Name: 0, dtype: int64\n"
     ]
    }
   ],
   "source": [
    "outliers = df_vibor_ka.loc[(df_vibor_ka[0] < boxplot_range[0]) | (df_vibor_ka[0] > boxplot_range[1])]\n",
    "\n",
    "outliers[0].shape[0]\n",
    "print(f'Выбросы: {outliers[0].value_counts()}')"
   ]
  },
  {
   "cell_type": "code",
   "execution_count": null,
   "metadata": {},
   "outputs": [],
   "source": []
  },
  {
   "cell_type": "markdown",
   "metadata": {},
   "source": [
    "#### Задача 3\n",
    "#### Для распределения Пуассона с параметром a = 5 найти теоретические (т.е. используя закон распределения, а не выборку) мат. ожидание, моду и медиану."
   ]
  },
  {
   "cell_type": "markdown",
   "metadata": {},
   "source": [
    "Задание сложноватое для меня (Теорвер и матстат до этого не знал что такое вообще)\n",
    "Покопавшись в интернете я нашел:\n",
    "* Мат. ожидание = а = 5\n",
    "* Если а целое число мода принимает два значения а - 1 и а, получается 4 и 5\n",
    "* Если а целое число медиана = а = 5"
   ]
  },
  {
   "cell_type": "code",
   "execution_count": 9,
   "metadata": {},
   "outputs": [],
   "source": [
    "a  = 5\n",
    "# for i in range(100):\n",
    "#     P_A = (a ** i) * (np.exp(-a)) / np.math.factorial(i)\n",
    "#     print(P_A)\n"
   ]
  },
  {
   "cell_type": "code",
   "execution_count": null,
   "metadata": {},
   "outputs": [],
   "source": []
  },
  {
   "cell_type": "code",
   "execution_count": null,
   "metadata": {},
   "outputs": [],
   "source": []
  },
  {
   "cell_type": "code",
   "execution_count": null,
   "metadata": {},
   "outputs": [],
   "source": []
  },
  {
   "cell_type": "markdown",
   "metadata": {},
   "source": [
    "#### Задача 4\n",
    "#### В университет на факультеты A и B поступило равное количество студентов, а на факультет C студентов поступило столько же, сколько на A и B вместе. Вероятность того, что студент факультета A сдаст первую сессию, равна 0.8. Для студента факультета B эта вероятность равна 0.7, а для студента факультета C - 0.9. Студент сдал первую сессию. Какова вероятность, что он учится: a) на факультете A? б) на факультете B? в) на факультете C?\n",
    "#### Замечание: да, эта задача не на тему описательных статистик, но тема важная, и её стоит иногда освежать в памяти."
   ]
  },
  {
   "cell_type": "markdown",
   "metadata": {},
   "source": [
    "#### A = B, A + B = C, значит\n",
    "$P(B_1) = \\frac{1}{4},  P(B_2) = \\frac{1}{4},  P(B_3) = \\frac{1}{2}$"
   ]
  },
  {
   "cell_type": "markdown",
   "metadata": {},
   "source": [
    "#### Применим формулу полной вероятности\n",
    "$$P(A) = {\\frac{1}{4} \\cdot 0.8} + \\frac{1}{4} \\cdot 0.7 + \\frac{1}{2} \\cdot 0.9 = 0.825$$"
   ]
  },
  {
   "cell_type": "code",
   "execution_count": 10,
   "metadata": {},
   "outputs": [
    {
     "data": {
      "text/plain": [
       "0.825"
      ]
     },
     "execution_count": 10,
     "metadata": {},
     "output_type": "execute_result"
    }
   ],
   "source": [
    "P_A = 1/4 * 0.8 + 1/4 * 0.7 + 1/2 * 0.9\n",
    "P_A"
   ]
  },
  {
   "cell_type": "markdown",
   "metadata": {},
   "source": [
    "Ответ на вопрос найдем по формуле Байеса:\n",
    "$$P(B_i\\:|\\:A) = \\frac{P(B_i) \\cdot P(A\\:|\\:B_i)}{P(A)}$$"
   ]
  },
  {
   "cell_type": "code",
   "execution_count": 11,
   "metadata": {},
   "outputs": [
    {
     "data": {
      "text/plain": [
       "0.24242424242424246"
      ]
     },
     "execution_count": 11,
     "metadata": {},
     "output_type": "execute_result"
    }
   ],
   "source": [
    "P_B_a_A = 1/4 * 0.8 / 0.825\n",
    "P_B_a_A"
   ]
  },
  {
   "cell_type": "code",
   "execution_count": 12,
   "metadata": {},
   "outputs": [
    {
     "data": {
      "text/plain": [
       "0.21212121212121213"
      ]
     },
     "execution_count": 12,
     "metadata": {},
     "output_type": "execute_result"
    }
   ],
   "source": [
    "P_B_b_A = 1/4 * 0.7 / 0.825\n",
    "P_B_b_A"
   ]
  },
  {
   "cell_type": "code",
   "execution_count": 13,
   "metadata": {},
   "outputs": [
    {
     "data": {
      "text/plain": [
       "0.5454545454545455"
      ]
     },
     "execution_count": 13,
     "metadata": {},
     "output_type": "execute_result"
    }
   ],
   "source": [
    "P_B_c_A = 1/2 * 0.9 / 0.825\n",
    "P_B_c_A"
   ]
  },
  {
   "cell_type": "code",
   "execution_count": 14,
   "metadata": {},
   "outputs": [
    {
     "name": "stdout",
     "output_type": "stream",
     "text": [
      "Вероятность того, что студент учится на факультете A: 0.24242424242424246\n",
      "Вероятность того, что студент учится на факультете B: 0.21212121212121213\n",
      "Вероятность того, что студент учится на факультете C: 0.5454545454545455\n"
     ]
    }
   ],
   "source": [
    "print(f'Вероятность того, что студент учится на факультете A: {P_B_a_A}')\n",
    "print(f'Вероятность того, что студент учится на факультете B: {P_B_b_A}')\n",
    "print(f'Вероятность того, что студент учится на факультете C: {P_B_c_A}')"
   ]
  },
  {
   "cell_type": "code",
   "execution_count": null,
   "metadata": {},
   "outputs": [],
   "source": []
  }
 ],
 "metadata": {
  "kernelspec": {
   "display_name": "Python 3",
   "language": "python",
   "name": "python3"
  },
  "language_info": {
   "codemirror_mode": {
    "name": "ipython",
    "version": 3
   },
   "file_extension": ".py",
   "mimetype": "text/x-python",
   "name": "python",
   "nbconvert_exporter": "python",
   "pygments_lexer": "ipython3",
   "version": "3.7.3"
  }
 },
 "nbformat": 4,
 "nbformat_minor": 2
}
