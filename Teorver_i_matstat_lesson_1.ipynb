{
 "cells": [
  {
   "cell_type": "markdown",
   "metadata": {},
   "source": [
    "## Урок 1\n",
    "### Случайные события. Условная вероятность. Формула Байеса. Независимые испытания. Домашнее задание"
   ]
  },
  {
   "cell_type": "markdown",
   "metadata": {},
   "source": [
    "#### Задача 1. Группа студентов изучает 10 различных дисциплин. Сколькими способами можно составить расписание на понедельник, если в этот день должно быть 4 разных занятия?"
   ]
  },
  {
   "cell_type": "code",
   "execution_count": 1,
   "metadata": {},
   "outputs": [],
   "source": [
    "import math\n",
    "import numpy as np"
   ]
  },
  {
   "cell_type": "code",
   "execution_count": null,
   "metadata": {},
   "outputs": [],
   "source": []
  },
  {
   "cell_type": "code",
   "execution_count": 2,
   "metadata": {},
   "outputs": [],
   "source": [
    "def arrangements(n: int, k: int) -> int:\n",
    "    \"\"\"Число размещений.\n",
    "    \"\"\"\n",
    "    \n",
    "    return np.math.factorial(n) // np.math.factorial(n - k)"
   ]
  },
  {
   "cell_type": "code",
   "execution_count": 3,
   "metadata": {},
   "outputs": [],
   "source": [
    "def permutations(n: int) -> int:\n",
    "    \"\"\"Число перестановок.\n",
    "    \"\"\"\n",
    "    \n",
    "    return np.math.factorial(n)"
   ]
  },
  {
   "cell_type": "code",
   "execution_count": 4,
   "metadata": {},
   "outputs": [],
   "source": [
    "def combinations(n: int, k: int) -> int:\n",
    "    \"\"\"Число сочетаний.\n",
    "    \"\"\"\n",
    "    \n",
    "    return np.math.factorial(n) // (np.math.factorial(k) * np.math.factorial(n - k))"
   ]
  },
  {
   "cell_type": "code",
   "execution_count": 5,
   "metadata": {},
   "outputs": [
    {
     "name": "stdout",
     "output_type": "stream",
     "text": [
      "Возможных вариантов составления расписания- 5040\n"
     ]
    }
   ],
   "source": [
    "# последовательность дисциплин здесь не важна\n",
    "print('Возможных вариантов составления расписания- {}'.format(arrangements(10, 4)))"
   ]
  },
  {
   "cell_type": "code",
   "execution_count": null,
   "metadata": {},
   "outputs": [],
   "source": []
  },
  {
   "cell_type": "markdown",
   "metadata": {},
   "source": [
    "\n",
    "#### Задача 2. Из колоды в 52 карты вынимают случайным образом 4 карты. Найти число исходов, соответствующих тому, что был вытянут хотя бы один туз."
   ]
  },
  {
   "cell_type": "code",
   "execution_count": 6,
   "metadata": {},
   "outputs": [
    {
     "name": "stdout",
     "output_type": "stream",
     "text": [
      "Возможных вариантов вытягивания одного туза из четырех- 4\n"
     ]
    }
   ],
   "source": [
    "# буду считать, что в колоде с 52 картами 4 туза(не знаю как на самом деле)\n",
    "# здесь также не важна последовательность карт\n",
    "print('Возможных вариантов вытягивания одного туза из четырех- {}'.format(combinations(4, 1)))"
   ]
  },
  {
   "cell_type": "code",
   "execution_count": 7,
   "metadata": {},
   "outputs": [
    {
     "name": "stdout",
     "output_type": "stream",
     "text": [
      "Возможных вариантов вытягивания остальных трех карт из оставшихся 48 карт- 17296\n"
     ]
    }
   ],
   "source": [
    "print('Возможных вариантов вытягивания остальных трех карт из оставшихся 48 карт- {}'.format(combinations(48, 3)))"
   ]
  },
  {
   "cell_type": "code",
   "execution_count": 8,
   "metadata": {},
   "outputs": [
    {
     "name": "stdout",
     "output_type": "stream",
     "text": [
      "Возможных вариантов (хотя бы один туз) - 69184\n"
     ]
    }
   ],
   "source": [
    "# перемножаем количество вариантов\n",
    "print('Возможных вариантов (хотя бы один туз) - {}'.format(combinations(4, 1) * combinations(48, 3)))"
   ]
  },
  {
   "cell_type": "code",
   "execution_count": null,
   "metadata": {},
   "outputs": [],
   "source": []
  },
  {
   "cell_type": "markdown",
   "metadata": {},
   "source": [
    "#### Задача 3. Семь человек рассаживаются наудачу на скамейке. Какова вероятность того, что два определённых человека будут сидеть рядом?"
   ]
  },
  {
   "cell_type": "code",
   "execution_count": 9,
   "metadata": {},
   "outputs": [
    {
     "name": "stdout",
     "output_type": "stream",
     "text": [
      "Вероятность того, что два определённых человека будут сидеть рядом - 0.2857142857142857\n"
     ]
    }
   ],
   "source": [
    "# два определённых человека могут сесть рядом в шести позициях (6) и двумя (2) способами, остальные пять человек 5! способами\n",
    "# всего способов рассадить семерых любыми способами 7! (всего возможных вариантов)\n",
    "m = 6 * 2 * np.math.factorial(5)\n",
    "n = np.math.factorial(7)\n",
    "print('Вероятность того, что два определённых человека будут сидеть рядом - {}'.format(m / n))"
   ]
  },
  {
   "cell_type": "code",
   "execution_count": null,
   "metadata": {},
   "outputs": [],
   "source": []
  },
  {
   "cell_type": "markdown",
   "metadata": {},
   "source": [
    "#### Задача 4. Из 60 вопросов, входящих в экзаменационные билеты, студент знает 50. Какова вероятность того, что среди трёх наугад выбранных вопросов студент знает: а) все? б) два?"
   ]
  },
  {
   "cell_type": "code",
   "execution_count": 10,
   "metadata": {},
   "outputs": [
    {
     "name": "stdout",
     "output_type": "stream",
     "text": [
      "34220 19600\n",
      "Вероятность того, что среди трёх наугад выбранных вопросов студент знает все - 0.5727644652250146\n"
     ]
    }
   ],
   "source": [
    "# а) вариант знает все\n",
    "n = combinations(60, 3)\n",
    "m = combinations(50, 3)\n",
    "print(n, m)\n",
    "print('Вероятность того, что среди трёх наугад выбранных вопросов студент знает все - {}'.format(m / n))"
   ]
  },
  {
   "cell_type": "code",
   "execution_count": 11,
   "metadata": {},
   "outputs": [
    {
     "name": "stdout",
     "output_type": "stream",
     "text": [
      "34220 12250\n",
      "Вероятность того, что среди трёх наугад выбранных вопросов студент знает два - 0.35797779076563413\n"
     ]
    }
   ],
   "source": [
    "#б) вариант знает хотя бы два\n",
    "n = combinations(60, 3)\n",
    "m = combinations(50, 2) * combinations(10, 1)\n",
    "print(n, m)\n",
    "print('Вероятность того, что среди трёх наугад выбранных вопросов студент знает два - {}'.format(m / n))"
   ]
  },
  {
   "cell_type": "markdown",
   "metadata": {},
   "source": [
    "#### Задача 5. Бросается игральная кость. Пусть событие A - появление чётного числа, событие B - появление числа больше трёх. Являются ли эти события независимыми?\n",
    "\n"
   ]
  },
  {
   "cell_type": "code",
   "execution_count": 12,
   "metadata": {},
   "outputs": [
    {
     "name": "stdout",
     "output_type": "stream",
     "text": [
      "событие A и событие B зависимы т.к. не соблюдается равенство для независимых P(AB) = P(A) * P(B)\n"
     ]
    }
   ],
   "source": [
    "# P(A) = 1 / 6 + 1 / 6 + 1 / 6 = 3 / 6 = 1 / 2\n",
    "# P(B) = 1 / 6 + 1 / 6 + 1 / 6 = 2 / 6 = 1 / 2\n",
    "# P(A) * P(B) = 1 / 2 * 1 / 2 = 1 / 4\n",
    "# P(AB) = 1 / 3\n",
    "print('событие A и событие B зависимы т.к. не соблюдается равенство для независимых P(AB) = P(A) * P(B)')"
   ]
  },
  {
   "cell_type": "code",
   "execution_count": null,
   "metadata": {},
   "outputs": [],
   "source": []
  },
  {
   "cell_type": "markdown",
   "metadata": {},
   "source": [
    "#### Задача 6. Допустим, имеется некоторая очень редкая болезнь (поражает 0.1% населения). Человек приходит к врачу, ему делают тест на эту болезнь, и тест оказывается положительным. Врач говорит Человеку, что этот тест верно выявляет 99% больных этой болезнью и всего лишь в 1% случаев даёт ложный положительный ответ. \n",
    "#### Вопрос: какова вероятность, что Человек действительно болен ей?  \n",
    "#### Подсказка: вновь используйте формулу Байеса с раскрытием знаменателя с помощью формулы полной вероятности."
   ]
  },
  {
   "cell_type": "code",
   "execution_count": 13,
   "metadata": {},
   "outputs": [
    {
     "data": {
      "text/plain": [
       "0.01098"
      ]
     },
     "execution_count": 13,
     "metadata": {},
     "output_type": "execute_result"
    }
   ],
   "source": [
    "# больных 0,1 / 100 = 0,001  здоровых 99,9 / 100 = 0,999\n",
    "# с вероятностью 0,99 положительный тест верен, вероятность ошибки теста 0,01\n",
    "# P(B) = 0.001 * 0.99 + 0.999 * 0.01 = 0.01098\n",
    "ver_B = 0.001 * 0.99 + 0.999 * 0.01\n",
    "ver_B"
   ]
  },
  {
   "cell_type": "code",
   "execution_count": 14,
   "metadata": {},
   "outputs": [
    {
     "data": {
      "text/plain": [
       "0.09016393442622951"
      ]
     },
     "execution_count": 14,
     "metadata": {},
     "output_type": "execute_result"
    }
   ],
   "source": [
    "# P(A|B) = 0.99 * 0.001 / P(B) = 0.01098\n",
    "ver_A_B = 0.99 * 0.001 / ver_B\n",
    "ver_A_B"
   ]
  },
  {
   "cell_type": "code",
   "execution_count": 15,
   "metadata": {},
   "outputs": [
    {
     "name": "stdout",
     "output_type": "stream",
     "text": [
      "вероятность того, что Человек действительно болен этой болезнью - 0.09016393442622951\n"
     ]
    }
   ],
   "source": [
    "print('вероятность того, что Человек действительно болен этой болезнью - {}'.format(ver_A_B))"
   ]
  },
  {
   "cell_type": "code",
   "execution_count": null,
   "metadata": {},
   "outputs": [],
   "source": []
  }
 ],
 "metadata": {
  "kernelspec": {
   "display_name": "Python 3",
   "language": "python",
   "name": "python3"
  },
  "language_info": {
   "codemirror_mode": {
    "name": "ipython",
    "version": 3
   },
   "file_extension": ".py",
   "mimetype": "text/x-python",
   "name": "python",
   "nbconvert_exporter": "python",
   "pygments_lexer": "ipython3",
   "version": "3.7.3"
  }
 },
 "nbformat": 4,
 "nbformat_minor": 2
}
